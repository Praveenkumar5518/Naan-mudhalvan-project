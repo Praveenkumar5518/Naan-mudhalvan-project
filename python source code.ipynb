{
 "cells": [
  {
   "cell_type": "code",
   "execution_count": 1,
   "metadata": {},
   "outputs": [],
   "source": [
    "import tkinter as tk\n",
    "\n",
    "class MentalHealthApp:\n",
    "    def __init__(self, root):\n",
    "        self.root = root\n",
    "        self.root.title(\"Mental Health Screening App\")\n",
    "\n",
    "        # Questions\n",
    "        self.questions = [\n",
    "            \"I have been feeling down, depressed, or hopeless.\",\n",
    "            \"I have been feeling nervous, anxious, or on edge.\",\n",
    "            \"I have little interest or pleasure in doing things.\",\n",
    "            \"I have trouble relaxing or have been feeling restless.\",\n",
    "            # Add more questions as needed\n",
    "        ]\n",
    "\n",
    "        # Responses\n",
    "        self.responses = {}\n",
    "\n",
    "        # GUI Setup\n",
    "        self.current_question_index = 0\n",
    "        self.question_label = tk.Label(root, text=self.questions[self.current_question_index])\n",
    "        self.question_label.pack()\n",
    "\n",
    "        self.response_var = tk.StringVar()\n",
    "        self.response_entry = tk.Entry(root, textvariable=self.response_var)\n",
    "        self.response_entry.pack()\n",
    "\n",
    "        self.next_button = tk.Button(root, text=\"Next\", command=self.next_question)\n",
    "        self.next_button.pack()\n",
    "\n",
    "    def next_question(self):\n",
    "        response = self.response_var.get()\n",
    "        self.responses[self.current_question_index] = response\n",
    "\n",
    "        self.current_question_index += 1\n",
    "        if self.current_question_index < len(self.questions):\n",
    "            self.question_label.config(text=self.questions[self.current_question_index])\n",
    "            self.response_var.set(\"\")\n",
    "        else:\n",
    "            self.display_results()\n",
    "\n",
    "    def display_results(self):\n",
    "        self.question_label.config(text=\"Thank you for completing the screening.\")\n",
    "        self.response_entry.destroy()\n",
    "        self.next_button.destroy()\n",
    "\n",
    "        # Calculate and display results\n",
    "        score = sum(int(response) for response in self.responses.values())\n",
    "        result_label = tk.Label(self.root, text=f\"Your screening score: {score}\")\n",
    "        result_label.pack()\n",
    "\n",
    "        # Provide further instructions or resources based on the score"
   ]
  },
  {
   "cell_type": "code",
   "execution_count": null,
   "metadata": {},
   "outputs": [],
   "source": []
  }
 ],
 "metadata": {
  "kernelspec": {
   "display_name": "Python 3",
   "language": "python",
   "name": "python3"
  },
  "language_info": {
   "codemirror_mode": {
    "name": "ipython",
    "version": 3
   },
   "file_extension": ".py",
   "mimetype": "text/x-python",
   "name": "python",
   "nbconvert_exporter": "python",
   "pygments_lexer": "ipython3",
   "version": "3.8.5"
  }
 },
 "nbformat": 4,
 "nbformat_minor": 4
}
